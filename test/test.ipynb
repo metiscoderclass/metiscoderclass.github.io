{
 "cells": [
  {
   "cell_type": "markdown",
   "metadata": {},
   "source": [
    "# Scope (bereik) van een variabele\n",
    "## Globale variabelen\n",
    "\n",
    "In iedere programmeertaal is het begrip 'scope' erg belangrijk. Het geeft aan welke variabelen allemaal toegankelijk zijn op welke plek in je programma. Tot nu toe hebben jullie eigenlijk alleen gewerkt met variabelen die in je hele programma te zien en aan te passen zijn. Dit noemen we **globale** variabelen (global variables).\n",
    "Bekijk het voorbeeld hieronder, je voert de code uit door <SHIFT>-ENTER te gebruiken."
   ]
  },
  {
   "cell_type": "code",
   "execution_count": 1,
   "metadata": {},
   "outputs": [
    {
     "name": "stdout",
     "output_type": "stream",
     "text": [
      "5\n"
     ]
    }
   ],
   "source": [
    "getal = 4\n",
    "test = True\n",
    "\n",
    "if test:\n",
    "    getal = 5\n",
    "    \n",
    "print(getal)"
   ]
  },
  {
   "cell_type": "markdown",
   "metadata": {},
   "source": [
    "We zien dat de variabele `getal` eerst `4` is en na het if statement is veranderd naar de waarde `5`. Dit kan omdat de variabele `getal` aan het begin van het programma gemaakt is. Hierdoor is de variabele **globaal** en daarna overal bereikbaar en aan te passen.\n",
    "\n",
    "Je hoeft hier de variabele niet eerst te definiÃ«ren. In het voorbeeld hieronder werkt het ook. "
   ]
  },
  {
   "cell_type": "code",
   "execution_count": 4,
   "metadata": {},
   "outputs": [
    {
     "name": "stdout",
     "output_type": "stream",
     "text": [
      "5\n"
     ]
    }
   ],
   "source": [
    "test = True\n",
    "\n",
    "if test:\n",
    "    getal1 = 5\n",
    "    \n",
    "print(getal1)"
   ]
  },
  {
   "cell_type": "markdown",
   "metadata": {},
   "source": [
    "Er zit wel een risico aan het vorige voorbeeld:"
   ]
  },
  {
   "cell_type": "code",
   "execution_count": 5,
   "metadata": {},
   "outputs": [
    {
     "ename": "NameError",
     "evalue": "name 'getal2' is not defined",
     "output_type": "error",
     "traceback": [
      "\u001b[1;31m---------------------------------------------------------------------------\u001b[0m",
      "\u001b[1;31mNameError\u001b[0m                                 Traceback (most recent call last)",
      "\u001b[1;32m<ipython-input-5-0b276722d7cf>\u001b[0m in \u001b[0;36m<module>\u001b[1;34m()\u001b[0m\n\u001b[0;32m      4\u001b[0m     \u001b[0mgetal2\u001b[0m \u001b[1;33m=\u001b[0m \u001b[1;36m5\u001b[0m\u001b[1;33m\u001b[0m\u001b[0m\n\u001b[0;32m      5\u001b[0m \u001b[1;33m\u001b[0m\u001b[0m\n\u001b[1;32m----> 6\u001b[1;33m \u001b[0mprint\u001b[0m\u001b[1;33m(\u001b[0m\u001b[0mgetal2\u001b[0m\u001b[1;33m)\u001b[0m\u001b[1;33m\u001b[0m\u001b[0m\n\u001b[0m",
      "\u001b[1;31mNameError\u001b[0m: name 'getal2' is not defined"
     ]
    }
   ],
   "source": [
    "test = False\n",
    "\n",
    "if test:\n",
    "    getal2 = 5\n",
    "    \n",
    "print(getal2)"
   ]
  },
  {
   "cell_type": "markdown",
   "metadata": {},
   "source": [
    "Als de regel met `getal2 = 5` niet wordt uitgevoerd, bestaat getal2 niet. Terwijl dat wel goed gaat als je hem globaal definieert."
   ]
  },
  {
   "cell_type": "code",
   "execution_count": 6,
   "metadata": {},
   "outputs": [
    {
     "name": "stdout",
     "output_type": "stream",
     "text": [
      "4\n"
     ]
    }
   ],
   "source": [
    "getal3 = 4\n",
    "test = False\n",
    "\n",
    "if test:\n",
    "    getal3 = 5\n",
    "    \n",
    "print(getal3)"
   ]
  },
  {
   "cell_type": "markdown",
   "metadata": {},
   "source": [
    "## Locale variabelen\n",
    "\n",
    "Vaak zijn er variabelen die je bijvoorbeeld tijdelijk nodig hebt in een functie. Of je wilt dat de variabele niet buiten de functie gezien kan worden. In zo een geval gebruik je een **locale** variabele. Kijk maar in het voorbeeld hieronder. "
   ]
  },
  {
   "cell_type": "code",
   "execution_count": 7,
   "metadata": {},
   "outputs": [
    {
     "name": "stdout",
     "output_type": "stream",
     "text": [
      "5\n"
     ]
    },
    {
     "ename": "NameError",
     "evalue": "name 'resultaat' is not defined",
     "output_type": "error",
     "traceback": [
      "\u001b[1;31m---------------------------------------------------------------------------\u001b[0m",
      "\u001b[1;31mNameError\u001b[0m                                 Traceback (most recent call last)",
      "\u001b[1;32m<ipython-input-7-95349e8df448>\u001b[0m in \u001b[0;36m<module>\u001b[1;34m()\u001b[0m\n\u001b[0;32m      4\u001b[0m \u001b[1;33m\u001b[0m\u001b[0m\n\u001b[0;32m      5\u001b[0m \u001b[0mtel_op_en_print\u001b[0m\u001b[1;33m(\u001b[0m\u001b[1;36m2\u001b[0m\u001b[1;33m,\u001b[0m \u001b[1;36m3\u001b[0m\u001b[1;33m)\u001b[0m\u001b[1;33m\u001b[0m\u001b[0m\n\u001b[1;32m----> 6\u001b[1;33m \u001b[0mprint\u001b[0m\u001b[1;33m(\u001b[0m\u001b[0mresultaat\u001b[0m\u001b[1;33m)\u001b[0m\u001b[1;33m\u001b[0m\u001b[0m\n\u001b[0m",
      "\u001b[1;31mNameError\u001b[0m: name 'resultaat' is not defined"
     ]
    }
   ],
   "source": [
    "def tel_op_en_print(getal1, getal2):\n",
    "    resultaat = getal1 + getal2\n",
    "    print(resultaat)\n",
    "    \n",
    "tel_op_en_print(2, 3)\n",
    "print(resultaat)"
   ]
  },
  {
   "cell_type": "markdown",
   "metadata": {},
   "source": [
    "In de functie `tel_op_en_print()` bestaat de variabele `resultaat` en die kunnen we binnen de functie uitprinten. Als we echter `resultaat` willen printen *buiten* de functie dan bestaat hij niet. Dus `resultaat` bestaat alleen **locaal** in de functie `tel_op_en_print()`.\n",
    "\n",
    "Nu lijkt dat eenvoudig, maar wat nou als we een globale variabele maken die dezelfde naam heeft?"
   ]
  },
  {
   "cell_type": "code",
   "execution_count": 21,
   "metadata": {},
   "outputs": [
    {
     "name": "stdout",
     "output_type": "stream",
     "text": [
      "5\n",
      "5\n"
     ]
    }
   ],
   "source": [
    "resultaat2 = 9\n",
    "\n",
    "def tel_op_en_print(getal1, getal2):\n",
    "    resultaat2 = getal1 + getal2\n",
    "    print(resultaat2)\n",
    "    \n",
    "tel_op_en_print(2, 3)\n",
    "print(resultaat2)"
   ]
  },
  {
   "cell_type": "markdown",
   "metadata": {},
   "source": [
    "He! Dat is gek. Er is een **globale** variabele `resultaat2 = 9`. In de functie wordt een (nieuwe) **locale** variabelen resultaat2 gemaakt en als de functie uitgevoerd is is die niet meer bereikbaar. Dit kan dus voor fouten zorgen die je niet goed begrijpt.\n",
    "\n",
    "Je kunt dus niet een globale variabele *wijzigen* in een functie. Je kunt wel de waarde van globale variabelen *lezen*: "
   ]
  },
  {
   "cell_type": "code",
   "execution_count": 9,
   "metadata": {},
   "outputs": [
    {
     "name": "stdout",
     "output_type": "stream",
     "text": [
      "9\n"
     ]
    }
   ],
   "source": [
    "resultaat = 9\n",
    "\n",
    "def printje(): \n",
    "    print(resultaat)\n",
    "    \n",
    "printje()"
   ]
  },
  {
   "cell_type": "markdown",
   "metadata": {},
   "source": [
    "Maak nu de opdrachten in [repl.it](repl.it)"
   ]
  },
  {
   "cell_type": "markdown",
   "metadata": {},
   "source": [
    "## Return waarden van functies\n",
    "We kunnen proberen om een globale variabele mee te geven aan een functie en dan aan te passen."
   ]
  },
  {
   "cell_type": "code",
   "execution_count": 17,
   "metadata": {},
   "outputs": [
    {
     "name": "stdout",
     "output_type": "stream",
     "text": [
      "resultaat in de functie printje: 11\n",
      "resultaat buiten de functie: 10\n"
     ]
    }
   ],
   "source": [
    "resultaat = 10\n",
    "\n",
    "def printje(resultaat): \n",
    "    resultaat += 1\n",
    "    print(\"resultaat in de functie printje: \" + str(resultaat))\n",
    "    \n",
    "printje(resultaat)\n",
    "print(\"resultaat buiten de functie: \" + str(resultaat))"
   ]
  },
  {
   "cell_type": "markdown",
   "metadata": {},
   "source": [
    "He, dat werkt niet zoals we zouden verwachten. Wat er gebeurt is dat de functie `printje()` een kopie maakt van `resultaat`. Bij de kopie tel je dan `1` op maar de globale versie van `resultaat` blijft hetzelfde.\n",
    "\n",
    "Als we toch de *nieuwe* waarde buiten de functie willen gebruiken, dan moeten we de waarde terug laten geven door de functie. Dit doen we met `return`. "
   ]
  },
  {
   "cell_type": "code",
   "execution_count": 18,
   "metadata": {},
   "outputs": [
    {
     "name": "stdout",
     "output_type": "stream",
     "text": [
      "resultaat in de functie printje: 11\n",
      "resultaat buiten de functie: 11\n"
     ]
    }
   ],
   "source": [
    "resultaat = 10\n",
    "\n",
    "def printje(resultaat): \n",
    "    resultaat += 1\n",
    "    print(\"resultaat in de functie printje: \" + str(resultaat))\n",
    "    return resultaat\n",
    "    \n",
    "resultaat = printje(resultaat)\n",
    "print(\"resultaat buiten de functie: \" + str(resultaat))"
   ]
  },
  {
   "cell_type": "markdown",
   "metadata": {},
   "source": [
    "Om dit te doen hoeft de variabele nog niet te bestaan:"
   ]
  },
  {
   "cell_type": "code",
   "execution_count": 19,
   "metadata": {},
   "outputs": [
    {
     "name": "stdout",
     "output_type": "stream",
     "text": [
      "7\n"
     ]
    }
   ],
   "source": [
    "def tel_op(a, b):\n",
    "    return a + b\n",
    "\n",
    "antwoord = tel_op(3, 4)\n",
    "print(antwoord)"
   ]
  },
  {
   "cell_type": "markdown",
   "metadata": {},
   "source": [
    "Een voordeel hiervan is dat de tijdelijke variabelen a en b niet bewaard hoeven te worden. We gebruiken ze even in de functie en daarna hebben we ze niet meer nodig."
   ]
  },
  {
   "cell_type": "markdown",
   "metadata": {},
   "source": [
    "<opdrachten>"
   ]
  },
  {
   "cell_type": "markdown",
   "metadata": {},
   "source": [
    "Je hoeft het resultaat van een functie zelfs niet op te slaan in een variabele:"
   ]
  },
  {
   "cell_type": "code",
   "execution_count": 20,
   "metadata": {},
   "outputs": [
    {
     "name": "stdout",
     "output_type": "stream",
     "text": [
      "7\n",
      "9\n",
      "11\n"
     ]
    }
   ],
   "source": [
    "def tel_op(a, b):\n",
    "    return a + b\n",
    "\n",
    "print(tel_op(3, 4))\n",
    "print(tel_op(5, 4))\n",
    "print(tel_op(9, 2))"
   ]
  },
  {
   "cell_type": "code",
   "execution_count": null,
   "metadata": {
    "collapsed": true
   },
   "outputs": [],
   "source": []
  }
 ],
 "metadata": {
  "kernelspec": {
   "display_name": "Python 3",
   "language": "python",
   "name": "python3"
  },
  "language_info": {
   "codemirror_mode": {
    "name": "ipython",
    "version": 3
   },
   "file_extension": ".py",
   "mimetype": "text/x-python",
   "name": "python",
   "nbconvert_exporter": "python",
   "pygments_lexer": "ipython3",
   "version": "3.5.2"
  }
 },
 "nbformat": 4,
 "nbformat_minor": 2
}
